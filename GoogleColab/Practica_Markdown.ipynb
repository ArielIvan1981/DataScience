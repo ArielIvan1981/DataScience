{
  "nbformat": 4,
  "nbformat_minor": 0,
  "metadata": {
    "colab": {
      "name": "Practica Markdown.ipynb",
      "provenance": [],
      "authorship_tag": "ABX9TyOq05KUiVTboGTiyveppHdO",
      "include_colab_link": true
    },
    "kernelspec": {
      "name": "python3",
      "display_name": "Python 3"
    },
    "language_info": {
      "name": "python"
    }
  },
  "cells": [
    {
      "cell_type": "markdown",
      "metadata": {
        "id": "view-in-github",
        "colab_type": "text"
      },
      "source": [
        "<a href=\"https://colab.research.google.com/github/ArielIvan1981/DataScience/blob/main/GoogleColab/Practica_Markdown.ipynb\" target=\"_parent\"><img src=\"https://colab.research.google.com/assets/colab-badge.svg\" alt=\"Open In Colab\"/></a>"
      ]
    },
    {
      "cell_type": "markdown",
      "source": [
        "# Practica MARKDOWN\n",
        "'''\n",
        "Primera linea uso un encabezado con: # Titulo (muestra un titulo como un h1 \n",
        "en html), tengo desde # hasta ###### equivalente a un h6 (letra mas pequeña)\n",
        "'''\n",
        "\n"
      ],
      "metadata": {
        "id": "-E6L2RxkZBXW"
      }
    },
    {
      "cell_type": "markdown",
      "source": [
        "### Subtitulo\n",
        "''' Subtitulo con ###'''"
      ],
      "metadata": {
        "id": "UP3oEiW5Z5rp"
      }
    },
    {
      "cell_type": "markdown",
      "source": [
        "*Este texto se encuentra en Cursiva*\n",
        "\n",
        "'''La manera de colocar un fragmento en cursiva es encerrandolo entre asteriscos simple *Texto en cursiva*'''"
      ],
      "metadata": {
        "id": "cJJQL5IT7fgc"
      }
    },
    {
      "cell_type": "markdown",
      "source": [
        "**Texto en negrita (bold)**\n",
        "\n",
        "'''Para visualizar texto en negrita se lo encierra entre asteriscos dobles'''"
      ],
      "metadata": {
        "id": "OYNEJS6a8S8d"
      }
    },
    {
      "cell_type": "markdown",
      "source": [
        "***Texto en cursiva y negrita***\n",
        "\n",
        "'''Para visualizar texto en cursiva y negrita se encierra el texto con asteriscos triples'''"
      ],
      "metadata": {
        "id": "EJDEn_Zz83Rc"
      }
    },
    {
      "cell_type": "markdown",
      "source": [
        "---\n",
        "'''Para insertar una linea separadora se colocan tres guiones ---'''"
      ],
      "metadata": {
        "id": "QUp_TGjb9UM1"
      }
    },
    {
      "cell_type": "markdown",
      "source": [
        "Texto con salto de linea<BR> esto va en la segunda linea\n",
        "\n",
        "'''Para saltar de linea uso BR encerrado entre<> al final de la linea'''"
      ],
      "metadata": {
        "id": "R5Sead99LgJV"
      }
    },
    {
      "cell_type": "markdown",
      "source": [
        "~Este texto estara tachado~\n",
        "\n",
        "'''Para tachar un texto lo encierro entre ~~'''"
      ],
      "metadata": {
        "id": "z5y0-oWmNOeB"
      }
    },
    {
      "cell_type": "markdown",
      "source": [
        ">Texto\n",
        ">>en diferentes\n",
        ">>>niveles o con sangria\n",
        "\n",
        ">Fin\n",
        "\n",
        "'''Cada > agreaga un tabulador'''"
      ],
      "metadata": {
        "id": "dcAXvInKOP2c"
      }
    },
    {
      "cell_type": "markdown",
      "source": [
        "- lista\n",
        "- sin\n",
        "- orden\n",
        "\n",
        "'''De esta forma se crea listas sin orden'''"
      ],
      "metadata": {
        "id": "aRLGH_nkPLjc"
      }
    },
    {
      "cell_type": "markdown",
      "source": [
        "* manzana\n",
        "* pera\n",
        "* banana\n",
        "\n",
        "'''Otra forma de crear una lista no ordenada con *'''"
      ],
      "metadata": {
        "id": "H8tak2pOQWWG"
      }
    },
    {
      "cell_type": "markdown",
      "source": [
        "1. Lista\n",
        "2. Con\n",
        "3. Orden\n",
        "\n",
        "'''Lista ordenada'''"
      ],
      "metadata": {
        "id": "PiRXgG7PPpNP"
      }
    },
    {
      "cell_type": "markdown",
      "source": [
        "~~~\n",
        "variable_1=5\n",
        "Esto es un bloque de codigo\n",
        "~~~\n",
        "\n",
        "'''Creando bloques de codigo debo encerrarlo entre 3~'''"
      ],
      "metadata": {
        "id": "wOBhrz7eRuY6"
      }
    },
    {
      "cell_type": "markdown",
      "source": [
        "`Esto es una línea de código`<BR>\n",
        "`var1=5`\n",
        "\n",
        "'''La manera de ingresar codigo tambien es encerrando entre `` el texto'''"
      ],
      "metadata": {
        "id": "ubKrk_m5TkJK"
      }
    },
    {
      "cell_type": "markdown",
      "source": [
        "```python\n",
        "a=[1,2,3]\n",
        "b=[2*i for i in a]\n",
        "```\n",
        "\n",
        "'''Codigo multilinea'''"
      ],
      "metadata": {
        "id": "p0OZwbSVWDt1"
      }
    },
    {
      "cell_type": "markdown",
      "source": [
        "[Google](https://www.google.com.ar/?hl=es \"Ir a Google\")\n",
        "\n",
        "'''Enlaces a sitios web'''"
      ],
      "metadata": {
        "id": "z672bay8WrSY"
      }
    },
    {
      "cell_type": "markdown",
      "source": [
        "![Logo](https://www.google.com/images/logos/google_logo_41.png)\n",
        "\n",
        "'''Insertar una imagen conociendo la url'''"
      ],
      "metadata": {
        "id": "teKMfXWeYlrz"
      }
    },
    {
      "cell_type": "markdown",
      "source": [
        "<img src='./E:/Ariel-29-5-2022/Yo/20200216_114543.jpg' alt='imagen herramienta'/>"
      ],
      "metadata": {
        "id": "u_Co-Leeadkt"
      }
    },
    {
      "cell_type": "markdown",
      "source": [
        "![Logo](file:///E:/Ariel-29-5-2022/Yo/20200216_114543.jpg)"
      ],
      "metadata": {
        "id": "zadNdOqpfNkL"
      }
    },
    {
      "cell_type": "markdown",
      "source": [
        "> Esto es una cita\n",
        "\n",
        "'''Citas'''"
      ],
      "metadata": {
        "id": "mZKdpVT4hnJQ"
      }
    },
    {
      "cell_type": "markdown",
      "source": [
        "$y=x^3$\n",
        "\n",
        "$\\frac{a!}{b^2(n+k)}=x^2+3c$\n",
        "\n",
        "'''Ejemplo de formulas Latex'''"
      ],
      "metadata": {
        "id": "k7U4yZAohvPe"
      }
    },
    {
      "cell_type": "markdown",
      "source": [
        "Estado | Compras\n",
        "--- | ---\n",
        "Puebla | 57\n",
        "Tabasco | 43\n",
        "Mexico | 60\n",
        "\n",
        "'''Insertar una tabla'''"
      ],
      "metadata": {
        "id": "Yy_72TexjdGQ"
      }
    }
  ]
}